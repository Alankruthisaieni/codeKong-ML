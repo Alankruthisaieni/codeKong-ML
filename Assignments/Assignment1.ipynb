{
  "nbformat": 4,
  "nbformat_minor": 0,
  "metadata": {
    "colab": {
      "name": "Assignment1.ipynb",
      "provenance": [],
      "collapsed_sections": [],
      "authorship_tag": "ABX9TyPoAOha8cso+kKZ3HUGElvV",
      "include_colab_link": true
    },
    "kernelspec": {
      "name": "python3",
      "display_name": "Python 3"
    },
    "language_info": {
      "name": "python"
    }
  },
  "cells": [
    {
      "cell_type": "markdown",
      "metadata": {
        "id": "view-in-github",
        "colab_type": "text"
      },
      "source": [
        "<a href=\"https://colab.research.google.com/github/Alankruthisaieni/codeKong-ML/blob/main/Assignments/Assignment1.ipynb\" target=\"_parent\"><img src=\"https://colab.research.google.com/assets/colab-badge.svg\" alt=\"Open In Colab\"/></a>"
      ]
    },
    {
      "cell_type": "markdown",
      "metadata": {
        "id": "wKFCX3U-ivBW"
      },
      "source": [
        "#Numpy assignment"
      ]
    },
    {
      "cell_type": "markdown",
      "metadata": {
        "id": "qreUBP36i9Ai"
      },
      "source": [
        "1. Import numpy"
      ]
    },
    {
      "cell_type": "code",
      "metadata": {
        "id": "P8NyFwS2i5Zh"
      },
      "source": [
        "import numpy as np"
      ],
      "execution_count": null,
      "outputs": []
    },
    {
      "cell_type": "markdown",
      "metadata": {
        "id": "LQdlnHHRjGCT"
      },
      "source": [
        "2. Create an array of 10 zeroes"
      ]
    },
    {
      "cell_type": "code",
      "metadata": {
        "id": "IcvytO6ijJar"
      },
      "source": [
        "arr=np.zeros(10)"
      ],
      "execution_count": null,
      "outputs": []
    },
    {
      "cell_type": "code",
      "metadata": {
        "colab": {
          "base_uri": "https://localhost:8080/"
        },
        "id": "bqe08sr3jQJR",
        "outputId": "b7dd7fcf-1a61-48b2-83d4-bd866d51c3f9"
      },
      "source": [
        "arr"
      ],
      "execution_count": null,
      "outputs": [
        {
          "output_type": "execute_result",
          "data": {
            "text/plain": [
              "array([0., 0., 0., 0., 0., 0., 0., 0., 0., 0.])"
            ]
          },
          "metadata": {},
          "execution_count": 3
        }
      ]
    },
    {
      "cell_type": "markdown",
      "metadata": {
        "id": "inmOqPMJjTuo"
      },
      "source": [
        "3. Create an array of 10 ones"
      ]
    },
    {
      "cell_type": "code",
      "metadata": {
        "colab": {
          "base_uri": "https://localhost:8080/"
        },
        "id": "wM2-xX0kjZTo",
        "outputId": "75039310-4d29-423e-c2e9-8846d198e4bc"
      },
      "source": [
        "np.ones(10)"
      ],
      "execution_count": null,
      "outputs": [
        {
          "output_type": "execute_result",
          "data": {
            "text/plain": [
              "array([1., 1., 1., 1., 1., 1., 1., 1., 1., 1.])"
            ]
          },
          "metadata": {},
          "execution_count": 4
        }
      ]
    },
    {
      "cell_type": "markdown",
      "metadata": {
        "id": "6rf9UrCQjd4Z"
      },
      "source": [
        "4. Create an array of 10 fives"
      ]
    },
    {
      "cell_type": "code",
      "metadata": {
        "colab": {
          "base_uri": "https://localhost:8080/"
        },
        "id": "j3hopQWWjg4X",
        "outputId": "9ea6273a-752e-46fe-fc3e-1ab9ff194d12"
      },
      "source": [
        "np.ones(10)*5"
      ],
      "execution_count": null,
      "outputs": [
        {
          "output_type": "execute_result",
          "data": {
            "text/plain": [
              "array([5., 5., 5., 5., 5., 5., 5., 5., 5., 5.])"
            ]
          },
          "metadata": {},
          "execution_count": 5
        }
      ]
    },
    {
      "cell_type": "markdown",
      "metadata": {
        "id": "84-A8p5IjrCI"
      },
      "source": [
        "5. Create an array of integers from 11 to 50"
      ]
    },
    {
      "cell_type": "code",
      "metadata": {
        "colab": {
          "base_uri": "https://localhost:8080/"
        },
        "id": "efoT0I-ujt-J",
        "outputId": "8522827b-a392-43b9-f8fe-a11a292d1c1d"
      },
      "source": [
        "np.arange(11,51)"
      ],
      "execution_count": null,
      "outputs": [
        {
          "output_type": "execute_result",
          "data": {
            "text/plain": [
              "array([11, 12, 13, 14, 15, 16, 17, 18, 19, 20, 21, 22, 23, 24, 25, 26, 27,\n",
              "       28, 29, 30, 31, 32, 33, 34, 35, 36, 37, 38, 39, 40, 41, 42, 43, 44,\n",
              "       45, 46, 47, 48, 49, 50])"
            ]
          },
          "metadata": {},
          "execution_count": 7
        }
      ]
    },
    {
      "cell_type": "markdown",
      "metadata": {
        "id": "7si4yv8dj1gt"
      },
      "source": [
        "6. Create an array of all the even integers from 11 to 50"
      ]
    },
    {
      "cell_type": "code",
      "metadata": {
        "colab": {
          "base_uri": "https://localhost:8080/"
        },
        "id": "mZEJTrobj4wh",
        "outputId": "e68fb3ed-0e62-45cb-f130-7cb03d882bb0"
      },
      "source": [
        "np.arange(12,51,2)"
      ],
      "execution_count": null,
      "outputs": [
        {
          "output_type": "execute_result",
          "data": {
            "text/plain": [
              "array([12, 14, 16, 18, 20, 22, 24, 26, 28, 30, 32, 34, 36, 38, 40, 42, 44,\n",
              "       46, 48, 50])"
            ]
          },
          "metadata": {},
          "execution_count": 10
        }
      ]
    },
    {
      "cell_type": "markdown",
      "metadata": {
        "id": "qB5nXDu8kgAZ"
      },
      "source": [
        "7. Create a 3 * 3 matrices of values from range 0 to 8"
      ]
    },
    {
      "cell_type": "code",
      "metadata": {
        "id": "KZBMoHWhkjoV"
      },
      "source": [
        "a=np.arange(0,9)"
      ],
      "execution_count": null,
      "outputs": []
    },
    {
      "cell_type": "code",
      "metadata": {
        "colab": {
          "base_uri": "https://localhost:8080/"
        },
        "id": "owoyRJj8k1MM",
        "outputId": "b16f6edb-94eb-4f7a-e9fd-86fa32b7e7ab"
      },
      "source": [
        "a.reshape(3,3)"
      ],
      "execution_count": null,
      "outputs": [
        {
          "output_type": "execute_result",
          "data": {
            "text/plain": [
              "array([[0, 1, 2],\n",
              "       [3, 4, 5],\n",
              "       [6, 7, 8]])"
            ]
          },
          "metadata": {},
          "execution_count": 12
        }
      ]
    },
    {
      "cell_type": "markdown",
      "metadata": {
        "id": "Jkauly1qk5o-"
      },
      "source": [
        "8.Use numpy to gentrate a number randomly between 0 and 1"
      ]
    },
    {
      "cell_type": "code",
      "metadata": {
        "colab": {
          "base_uri": "https://localhost:8080/"
        },
        "id": "4-47qjHnk_9z",
        "outputId": "89c2326e-0ec6-4e6d-c9ae-89f6464f7e97"
      },
      "source": [
        "np.random.rand(1)"
      ],
      "execution_count": null,
      "outputs": [
        {
          "output_type": "execute_result",
          "data": {
            "text/plain": [
              "array([0.63596667])"
            ]
          },
          "metadata": {},
          "execution_count": 13
        }
      ]
    },
    {
      "cell_type": "markdown",
      "metadata": {
        "id": "Zdvw13vklI8z"
      },
      "source": [
        "Create the following matrices"
      ]
    },
    {
      "cell_type": "markdown",
      "metadata": {
        "id": "XJJRZyMFlOW5"
      },
      "source": [
        "20 linrarly spaced points between 0 and 2"
      ]
    },
    {
      "cell_type": "code",
      "metadata": {
        "colab": {
          "base_uri": "https://localhost:8080/"
        },
        "id": "a5hhpF5XlRfF",
        "outputId": "656c5a61-8c1e-4836-bf5a-feb2a9114799"
      },
      "source": [
        "np.linspace(0,2,20).reshape(5,4)"
      ],
      "execution_count": null,
      "outputs": [
        {
          "output_type": "execute_result",
          "data": {
            "text/plain": [
              "array([[0.        , 0.10526316, 0.21052632, 0.31578947],\n",
              "       [0.42105263, 0.52631579, 0.63157895, 0.73684211],\n",
              "       [0.84210526, 0.94736842, 1.05263158, 1.15789474],\n",
              "       [1.26315789, 1.36842105, 1.47368421, 1.57894737],\n",
              "       [1.68421053, 1.78947368, 1.89473684, 2.        ]])"
            ]
          },
          "metadata": {},
          "execution_count": 15
        }
      ]
    },
    {
      "cell_type": "markdown",
      "metadata": {
        "id": "tFHdMpmVle7d"
      },
      "source": [
        "Numpy indexing and selection"
      ]
    },
    {
      "cell_type": "code",
      "metadata": {
        "colab": {
          "base_uri": "https://localhost:8080/"
        },
        "id": "Mx3oc9i0lnLB",
        "outputId": "4cf6cf6f-3b7b-46d3-f14d-22d624ac637d"
      },
      "source": [
        "mat = np.arange(1,26).reshape(5,5)\n",
        "mat"
      ],
      "execution_count": null,
      "outputs": [
        {
          "output_type": "execute_result",
          "data": {
            "text/plain": [
              "array([[ 1,  2,  3,  4,  5],\n",
              "       [ 6,  7,  8,  9, 10],\n",
              "       [11, 12, 13, 14, 15],\n",
              "       [16, 17, 18, 19, 20],\n",
              "       [21, 22, 23, 24, 25]])"
            ]
          },
          "metadata": {},
          "execution_count": 20
        }
      ]
    },
    {
      "cell_type": "markdown",
      "metadata": {
        "id": "HuZ_vT0Sljyo"
      },
      "source": [
        "Use the above matrices for the following set of questions"
      ]
    },
    {
      "cell_type": "markdown",
      "metadata": {
        "id": "AKd6KqLmls3K"
      },
      "source": [
        "1. only first value of matrice mat"
      ]
    },
    {
      "cell_type": "code",
      "metadata": {
        "colab": {
          "base_uri": "https://localhost:8080/"
        },
        "id": "vDdPiRWTlwDB",
        "outputId": "dbd9a2a6-f496-479c-c8f8-71c3aa3d9444"
      },
      "source": [
        "mat[0,0]"
      ],
      "execution_count": null,
      "outputs": [
        {
          "output_type": "execute_result",
          "data": {
            "text/plain": [
              "1"
            ]
          },
          "metadata": {},
          "execution_count": 22
        }
      ]
    },
    {
      "cell_type": "markdown",
      "metadata": {
        "id": "-Aa1C4xTlVI6"
      },
      "source": [
        "2. middle value of matrice mat"
      ]
    },
    {
      "cell_type": "code",
      "metadata": {
        "colab": {
          "base_uri": "https://localhost:8080/"
        },
        "id": "QvlMHYwcmEXq",
        "outputId": "ca9a242f-4b27-42bc-a73c-18acf0a7c87d"
      },
      "source": [
        "mat[2,2]"
      ],
      "execution_count": null,
      "outputs": [
        {
          "output_type": "execute_result",
          "data": {
            "text/plain": [
              "13"
            ]
          },
          "metadata": {},
          "execution_count": 24
        }
      ]
    },
    {
      "cell_type": "markdown",
      "metadata": {
        "id": "FcE8m2vOmQAB"
      },
      "source": [
        "3. first two rows and last one column values of matrice mat"
      ]
    },
    {
      "cell_type": "code",
      "metadata": {
        "colab": {
          "base_uri": "https://localhost:8080/"
        },
        "id": "OKYij-LQmS1H",
        "outputId": "345e9c88-7022-450e-bdfb-339a38d68e46"
      },
      "source": [
        "mat[:2,4:]"
      ],
      "execution_count": null,
      "outputs": [
        {
          "output_type": "execute_result",
          "data": {
            "text/plain": [
              "array([[ 5],\n",
              "       [10]])"
            ]
          },
          "metadata": {},
          "execution_count": 25
        }
      ]
    },
    {
      "cell_type": "markdown",
      "metadata": {
        "id": "qShZH9Y2majT"
      },
      "source": [
        "4. last row and all column values of matrice mat"
      ]
    },
    {
      "cell_type": "code",
      "metadata": {
        "colab": {
          "base_uri": "https://localhost:8080/"
        },
        "id": "wxTRk9Yymd3H",
        "outputId": "c7ba5074-5d6c-49cc-b74d-e52d3009dbca"
      },
      "source": [
        "mat[4:,:]"
      ],
      "execution_count": null,
      "outputs": [
        {
          "output_type": "execute_result",
          "data": {
            "text/plain": [
              "array([[21, 22, 23, 24, 25]])"
            ]
          },
          "metadata": {},
          "execution_count": 26
        }
      ]
    }
  ]
}